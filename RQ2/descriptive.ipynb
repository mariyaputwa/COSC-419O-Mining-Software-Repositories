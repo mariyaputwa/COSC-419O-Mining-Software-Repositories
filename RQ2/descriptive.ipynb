{
 "cells": [
  {
   "cell_type": "code",
   "execution_count": null,
   "id": "40efdd44",
   "metadata": {},
   "outputs": [],
   "source": [
    "import pandas as pd\n",
    "import io\n",
    "import csv"
   ]
  },
  {
   "cell_type": "code",
   "execution_count": null,
   "id": "2f03ae1d",
   "metadata": {},
   "outputs": [],
   "source": [
    "rows = []\n",
    "with open('/home/mariya/Documents/Year 4/Data Mining/analysis/aggregated_repo_metrics_with_types.csv', 'r') as f:\n",
    "    reader = csv.reader(f)\n",
    "    header = next(reader)\n",
    "    for row in reader:\n",
    "        if len(row) > len(header):\n",
    "            print(f\"Row with extra fields: {row[0]}\")\n",
    "            row = row[:len(header)]  # Truncate extra fields\n",
    "        elif len(row) < len(header):\n",
    "            print(f\"Row with missing fields: {row[0]}\")\n",
    "            row = row + [None] * (len(header) - len(row))  # Pad with None\n",
    "        rows.append(row)"
   ]
  },
  {
   "cell_type": "code",
   "execution_count": null,
   "id": "20deba4a",
   "metadata": {
    "lines_to_next_cell": 2
   },
   "outputs": [],
   "source": [
    "df = pd.DataFrame(rows, columns=header)"
   ]
  },
  {
   "cell_type": "code",
   "execution_count": null,
   "id": "efa88ff2",
   "metadata": {},
   "outputs": [],
   "source": [
    "# Convert 'Lines of Code/Size' to numeric\n",
    "df['Lines of Code'] = df['Lines of Code/Size'].str.extract('(\\d+)').astype(float)\n",
    "df['Average Commit Timestamp (Epoch Sec)'] = pd.to_numeric(df['Average Commit Timestamp (Epoch Sec)'], errors='coerce')\n",
    "df['Average Refactoring Commit Timestamp (Epoch Sec)'] = pd.to_numeric(df['Average Refactoring Commit Timestamp (Epoch Sec)'], errors='coerce')"
   ]
  },
  {
   "cell_type": "code",
   "execution_count": null,
   "id": "ef53a07d",
   "metadata": {
    "lines_to_next_cell": 1
   },
   "outputs": [],
   "source": [
    "# Separate dataframes for AI-Coauthored and Human Written repos\n",
    "ai_repos_df = df[df['Human/AI-Coauthored'] == 'AI-Coauthored']\n",
    "human_repos_df = df[df['Human/AI-Coauthored'] == 'Human Written']"
   ]
  },
  {
   "cell_type": "code",
   "execution_count": null,
   "id": "c6c94847",
   "metadata": {
    "lines_to_next_cell": 1
   },
   "outputs": [],
   "source": [
    "def descriptive_stats(dataframe, group_column, metrics_columns):\n",
    "    \"\"\"Calculates descriptive statistics for specified metrics, grouped by a column.\"\"\"\n",
    "    grouped = dataframe.groupby(group_column)[metrics_columns]\n",
    "    stats = grouped.agg(['count', 'mean', 'median', 'std'])\n",
    "    return stats"
   ]
  },
  {
   "cell_type": "code",
   "execution_count": null,
   "id": "ac6855d9",
   "metadata": {},
   "outputs": [],
   "source": [
    "metrics_to_analyze = [\n",
    "    'Total Refactorings', 'Refactoring Commits Percentage', 'Average Time-to-Refactor (sec)',\n",
    "    'Refactoring Timestamp Difference (days)', 'Number of Refactoring Contributors',\n",
    "    'Naming Improvements',\n",
    "    'Parameter Modifications',\n",
    "    'Method Composition',\n",
    "    'Method Movement',\n",
    "]\n",
    "for column in metrics_to_analyze:\n",
    "    df[column] = pd.to_numeric(df[column], errors='coerce')"
   ]
  },
  {
   "cell_type": "code",
   "execution_count": null,
   "id": "b44d36e9",
   "metadata": {},
   "outputs": [],
   "source": [
    "# Debug info to verify data types\n",
    "print(df['Human/AI-Coauthored'].value_counts())"
   ]
  },
  {
   "cell_type": "code",
   "execution_count": null,
   "id": "06a8be52",
   "metadata": {},
   "outputs": [],
   "source": [
    "descriptive_stats_df = descriptive_stats(df, 'Human/AI-Coauthored', metrics_to_analyze)\n",
    "print(descriptive_stats_df)"
   ]
  },
  {
   "cell_type": "code",
   "execution_count": null,
   "id": "3f86e72b",
   "metadata": {},
   "outputs": [],
   "source": [
    "# Save the descriptive statistics to a CSV file\n",
    "descriptive_stats_df.to_csv('/home/mariya/Documents/Year 4/Data Mining/analysis/descriptive_stats.csv')\n",
    "print(\"Descriptive statistics saved to descriptive_stats.csv\")"
   ]
  },
  {
   "cell_type": "code",
   "execution_count": null,
   "id": "6494c2f8",
   "metadata": {},
   "outputs": [],
   "source": [
    "flat_descriptive_stats = descriptive_stats_df.copy()\n",
    "flat_descriptive_stats.columns = ['_'.join(col).strip() for col in flat_descriptive_stats.columns.values]\n",
    "flat_descriptive_stats.to_csv('/home/mariya/Documents/Year 4/Data Mining/analysis/descriptive_stats_flat.csv')\n",
    "print(\"Flattened descriptive statistics saved to descriptive_stats_flat.csv\")"
   ]
  }
 ],
 "metadata": {
  "jupytext": {
   "cell_metadata_filter": "-all",
   "main_language": "python",
   "notebook_metadata_filter": "-all"
  },
  "language_info": {
   "name": "python"
  }
 },
 "nbformat": 4,
 "nbformat_minor": 5
}
