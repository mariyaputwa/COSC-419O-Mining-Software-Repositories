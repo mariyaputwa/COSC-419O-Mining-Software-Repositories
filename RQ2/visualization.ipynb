{
 "cells": [
  {
   "cell_type": "code",
   "execution_count": null,
   "id": "3b8b4ef6",
   "metadata": {
    "lines_to_next_cell": 2
   },
   "outputs": [],
   "source": [
    "import pandas as pd\n",
    "import seaborn as sns\n",
    "import matplotlib.pyplot as plt\n",
    "import numpy as np\n",
    "from collections import defaultdict\n",
    "from matplotlib.ticker import FixedLocator, FixedFormatter"
   ]
  },
  {
   "cell_type": "code",
   "execution_count": null,
   "id": "b80d8965",
   "metadata": {},
   "outputs": [],
   "source": [
    "sns.set_theme(style=\"whitegrid\", context=\"paper\", font_scale=1.2)"
   ]
  },
  {
   "cell_type": "code",
   "execution_count": null,
   "id": "c8c8cc14",
   "metadata": {},
   "outputs": [],
   "source": [
    "# Color-blind-friendly palette\n",
    "color_blind_palette = sns.color_palette('Paired')\n",
    "ai_color = color_blind_palette[0]     \n",
    "human_color = color_blind_palette[1]  "
   ]
  },
  {
   "cell_type": "code",
   "execution_count": null,
   "id": "3ffa5fd3",
   "metadata": {},
   "outputs": [],
   "source": [
    "REFACTORING_CATEGORIES = {\n",
    "    \"Readability Improvements\": [],\n",
    "    \"Structural Changes\": [],\n",
    "    \"Parameter Adjustments\": [],\n",
    "    \"Method Modifications\": [],\n",
    "    \"Other\": []\n",
    "}"
   ]
  },
  {
   "cell_type": "code",
   "execution_count": null,
   "id": "0dcd1016",
   "metadata": {},
   "outputs": [],
   "source": [
    "# Load CSV data\n",
    "csv_file = \"aggregated_repo_metrics_with_types.csv\"\n",
    "df = pd.read_csv(csv_file)"
   ]
  },
  {
   "cell_type": "code",
   "execution_count": null,
   "id": "94f4c906",
   "metadata": {},
   "outputs": [],
   "source": [
    "# Ensure numeric columns for refactoring categories\n",
    "for col in REFACTORING_CATEGORIES:\n",
    "    if col in df.columns:\n",
    "        df[col] = pd.to_numeric(df[col], errors='coerce')"
   ]
  },
  {
   "cell_type": "markdown",
   "id": "8b35e167",
   "metadata": {},
   "source": [
    "--------------------------\n",
    "1) Box Plots\n",
    "--------------------------"
   ]
  },
  {
   "cell_type": "code",
   "execution_count": null,
   "id": "ac96aa16",
   "metadata": {},
   "outputs": [],
   "source": [
    "\n",
    "categories_to_visualize_boxplots = [\n",
    "    \"Readability Improvements (Renaming)\",\n",
    "    \"Parameter Adjustment\",\n",
    "    \"Structural Refactoring (Modularity)\",\n",
    "    \"Other\"\n",
    "]"
   ]
  },
  {
   "cell_type": "code",
   "execution_count": null,
   "id": "e9f22afd",
   "metadata": {},
   "outputs": [],
   "source": [
    "for category in categories_to_visualize_boxplots:\n",
    "    plt.figure(figsize=(7, 3.5), dpi=300)\n",
    "    sns.boxplot(\n",
    "        x='Human/AI-Coauthored',\n",
    "        y=category,\n",
    "        data=df,\n",
    "        palette=[ai_color, human_color],\n",
    "        width=0.6,\n",
    "        fliersize=3,\n",
    "        linewidth=1,\n",
    "        showmeans=False,\n",
    "        medianprops={\"color\": \"black\", \"linewidth\": 1},\n",
    "        whiskerprops={\"color\": \"gray\"},\n",
    "        capprops={\"color\": \"gray\"},\n",
    "        boxprops={\"edgecolor\": \"gray\", \"facecolor\": \"white\"}\n",
    "    )\n",
    "    plt.title(f'Distribution of {category} Refactorings', fontsize=10, fontweight='semibold')\n",
    "    plt.xlabel('Repository Type', fontsize=9)\n",
    "    plt.ylabel('Refactoring Count', fontsize=9)\n",
    "    plt.xticks(rotation=0, ha='center', fontsize=7, fontweight='semibold')\n",
    "    plt.yticks(fontsize=8)\n",
    "    sns.despine(left=False, bottom=False)\n",
    "    plt.tight_layout()\n",
    "    plt.savefig(f'boxplot_{category.replace(\" \", \"_\")}.png', bbox_inches='tight')\n",
    "    plt.show()"
   ]
  },
  {
   "cell_type": "markdown",
   "id": "656e3a73",
   "metadata": {
    "lines_to_next_cell": 2
   },
   "source": [
    "--------------------------\n",
    "2) Grouped Bar Chart (Category Counts)\n",
    "--------------------------"
   ]
  },
  {
   "cell_type": "code",
   "execution_count": null,
   "id": "bfc8abdd",
   "metadata": {},
   "outputs": [],
   "source": [
    "categories_for_barchart = [\n",
    "    \"Naming Improvements\",\n",
    "    \"Parameter Modifications\",\n",
    "    \"Method Composition\",\n",
    "    \"Method Movement\",\n",
    "]"
   ]
  },
  {
   "cell_type": "code",
   "execution_count": null,
   "id": "3dcd1f25",
   "metadata": {},
   "outputs": [],
   "source": [
    "csv_file = \"aggregated_repo_metrics_with_types.csv\"\n",
    "df = pd.read_csv(csv_file)"
   ]
  },
  {
   "cell_type": "code",
   "execution_count": null,
   "id": "7d65da93",
   "metadata": {},
   "outputs": [],
   "source": [
    "category_counts_csv = \"refactoring_category_counts.csv\"\n",
    "category_counts_df = pd.read_csv(category_counts_csv)"
   ]
  },
  {
   "cell_type": "code",
   "execution_count": null,
   "id": "65765b4f",
   "metadata": {
    "lines_to_next_cell": 1
   },
   "outputs": [],
   "source": [
    "bar_chart_df = category_counts_df[category_counts_df['Category'].isin(categories_for_barchart)]\n",
    "bar_chart_melted = bar_chart_df.melt(\n",
    "    id_vars='Category',\n",
    "    value_vars=['AI-Coauthored', 'Human Written'],\n",
    "    var_name='Repo Type',\n",
    "    value_name='Count'\n",
    ")"
   ]
  },
  {
   "cell_type": "code",
   "execution_count": null,
   "id": "724be64f",
   "metadata": {
    "lines_to_next_cell": 1
   },
   "outputs": [],
   "source": [
    "# Create Wrapped Labels Manually\n",
    "\n",
    "def wrap_label(text, width=15):\n",
    "    if \"Readability\" in text:\n",
    "        return \"Readability\\nImprovements\"\n",
    "    # Otherwise, if text is too long, insert a newline after the first space\n",
    "    if len(text) > width:\n",
    "        parts = text.split(\" \", 1)\n",
    "        if len(parts) > 1:\n",
    "            return parts[0] + \"\\n\" + parts[1]\n",
    "    return text"
   ]
  },
  {
   "cell_type": "code",
   "execution_count": null,
   "id": "ec036582",
   "metadata": {},
   "outputs": [],
   "source": [
    "wrapped_labels = [wrap_label(cat, width=15) for cat in categories_for_barchart]"
   ]
  },
  {
   "cell_type": "code",
   "execution_count": null,
   "id": "a6f77e9b",
   "metadata": {},
   "outputs": [],
   "source": [
    "\n",
    "plt.figure(figsize=(8, 4.5), dpi=300)\n",
    "ax = sns.barplot(\n",
    "    data=bar_chart_melted,\n",
    "    x='Category',\n",
    "    y='Count',\n",
    "    hue='Repo Type',\n",
    "    palette=[ai_color, human_color],\n",
    "    order=categories_for_barchart,\n",
    "    saturation=0.85,\n",
    "    width=0.8,\n",
    "    errwidth=0  \n",
    ")"
   ]
  },
  {
   "cell_type": "code",
   "execution_count": null,
   "id": "069b080a",
   "metadata": {},
   "outputs": [],
   "source": [
    "\n",
    "ax.xaxis.set_major_locator(FixedLocator(np.arange(len(categories_for_barchart))))\n",
    "ax.xaxis.set_major_formatter(FixedFormatter(wrapped_labels))"
   ]
  },
  {
   "cell_type": "code",
   "execution_count": null,
   "id": "2648e002",
   "metadata": {},
   "outputs": [],
   "source": [
    "plt.title('Refactoring Category Counts by Repository Type', fontsize=11, fontweight='semibold')\n",
    "plt.xlabel('Refactoring Category', fontsize=8)\n",
    "plt.ylabel('Number of Refactorings', fontsize=9)\n",
    "plt.xticks(rotation=0, ha='center', fontsize=8, fontweight='semibold')\n",
    "plt.yticks(fontsize=8)"
   ]
  },
  {
   "cell_type": "code",
   "execution_count": null,
   "id": "ebf79bac",
   "metadata": {},
   "outputs": [],
   "source": [
    "# Add value labels on top of bars\n",
    "for container in ax.containers:\n",
    "    ax.bar_label(container, fontsize=8, fmt='%d', fontweight='semibold')"
   ]
  },
  {
   "cell_type": "code",
   "execution_count": null,
   "id": "9730ce3a",
   "metadata": {},
   "outputs": [],
   "source": [
    "plt.legend(title='Repository Type', fontsize=8, frameon=False, loc='upper right')"
   ]
  },
  {
   "cell_type": "code",
   "execution_count": null,
   "id": "4c10d9aa",
   "metadata": {},
   "outputs": [],
   "source": [
    "plt.subplots_adjust(bottom=0.22)  "
   ]
  },
  {
   "cell_type": "code",
   "execution_count": null,
   "id": "216dbf90",
   "metadata": {},
   "outputs": [],
   "source": [
    "plt.savefig('grouped_barchart_ref_categories.png', dpi=300, bbox_inches='tight')\n",
    "plt.savefig('cat.pdf', dpi=300, bbox_inches='tight')\n",
    "plt.show()\n"
   ]
  },
  {
   "cell_type": "markdown",
   "id": "0e8b1977",
   "metadata": {},
   "source": [
    "--------------------------\n",
    "3) PyRef refactoring types\n",
    "--------------------------"
   ]
  },
  {
   "cell_type": "code",
   "execution_count": null,
   "id": "a940ad8d",
   "metadata": {},
   "outputs": [],
   "source": [
    "\n",
    "pyref_type_counts_ai = defaultdict(int)\n",
    "pyref_type_counts_human = defaultdict(int)"
   ]
  },
  {
   "cell_type": "code",
   "execution_count": null,
   "id": "0acc83b0",
   "metadata": {},
   "outputs": [],
   "source": [
    "for _, row in df.iterrows():\n",
    "    repo_type = row['Human/AI-Coauthored']\n",
    "    most_common_type = row['Most Common Refactoring Type']  # e.g., \"Rename Method\"\n",
    "    if most_common_type != \"None\":\n",
    "        if repo_type == 'AI-Coauthored':\n",
    "            pyref_type_counts_ai[most_common_type] += 1\n",
    "        elif repo_type == 'Human Written':\n",
    "            pyref_type_counts_human[most_common_type] += 1"
   ]
  },
  {
   "cell_type": "code",
   "execution_count": null,
   "id": "09703877",
   "metadata": {},
   "outputs": [],
   "source": [
    "# Create a DataFrame for plotting\n",
    "unique_types = sorted(set(pyref_type_counts_ai.keys()) | set(pyref_type_counts_human.keys()))\n",
    "data_list = []\n",
    "for t in unique_types:\n",
    "    data_list.append({\n",
    "        'Refactoring Type': t,\n",
    "        'Count': pyref_type_counts_ai[t],\n",
    "        'Repo Type': 'AI-Coauthored'\n",
    "    })\n",
    "    data_list.append({\n",
    "        'Refactoring Type': t,\n",
    "        'Count': pyref_type_counts_human[t],\n",
    "        'Repo Type': 'Human Written'\n",
    "    })"
   ]
  },
  {
   "cell_type": "code",
   "execution_count": null,
   "id": "2aeb6d49",
   "metadata": {},
   "outputs": [],
   "source": [
    "pyref_type_counts_df = pd.DataFrame(data_list)"
   ]
  },
  {
   "cell_type": "code",
   "execution_count": null,
   "id": "70b24298",
   "metadata": {
    "lines_to_next_cell": 2
   },
   "outputs": [],
   "source": [
    "plt.figure(figsize=(7, 5.5), dpi=300)\n",
    "sns.barplot(\n",
    "    data=pyref_type_counts_df,\n",
    "    x='Refactoring Type',\n",
    "    y='Count',\n",
    "    hue='Repo Type',\n",
    "    palette=[ai_color, human_color],\n",
    "    order=unique_types\n",
    ")\n",
    "plt.title('Most Common PyRef Refactoring Types by Repository Type', fontsize=10, fontweight='semibold')\n",
    "plt.xlabel('PyRef Refactoring Type', fontsize=9)\n",
    "plt.ylabel('Number of Repositories', fontsize=9)\n",
    "plt.xticks(rotation=0, ha='center', fontsize=7, fontweight='semibold')\n",
    "plt.yticks(fontsize=8)\n",
    "plt.legend(title='Repository Type', fontsize=8, frameon=False, loc='best')\n",
    "sns.despine(left=False, bottom=False)\n",
    "plt.tight_layout()\n",
    "plt.savefig('grouped_barchart_pyref_types.png', bbox_inches='tight')\n",
    "plt.show()"
   ]
  }
 ],
 "metadata": {
  "jupytext": {
   "cell_metadata_filter": "-all",
   "main_language": "python",
   "notebook_metadata_filter": "-all"
  },
  "language_info": {
   "name": "python"
  }
 },
 "nbformat": 4,
 "nbformat_minor": 5
}
