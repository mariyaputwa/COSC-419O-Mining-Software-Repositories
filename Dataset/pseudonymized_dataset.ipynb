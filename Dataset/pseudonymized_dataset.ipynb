{
 "cells": [
  {
   "cell_type": "markdown",
   "id": "a9e3e8f0",
   "metadata": {},
   "source": [
    "# Script to pseudonymize dataset to a string using SHA-256 and a salt\n"
   ]
  },
  {
   "cell_type": "code",
   "execution_count": null,
   "id": "ec81848d",
   "metadata": {
    "lines_to_next_cell": 1
   },
   "outputs": [],
   "source": [
    "import pandas as pd\n",
    "import hashlib"
   ]
  },
  {
   "cell_type": "code",
   "execution_count": null,
   "id": "52da268d",
   "metadata": {
    "lines_to_next_cell": 1
   },
   "outputs": [],
   "source": [
    "def pseudonymize_value(val, salt=\"my_secret_salt\"):\n",
    "    if pd.isna(val):\n",
    "        return val\n",
    "    value_str = str(val).encode('utf-8')\n",
    "    salted_value = salt.encode('utf-8') + value_str\n",
    "    return hashlib.sha256(salted_value).hexdigest()[:10]"
   ]
  },
  {
   "cell_type": "code",
   "execution_count": null,
   "id": "2693f634",
   "metadata": {},
   "outputs": [],
   "source": [
    "input_csv = \"dataset1.csv\"\n",
    "df = pd.read_csv(input_csv)"
   ]
  },
  {
   "cell_type": "code",
   "execution_count": null,
   "id": "6e85fcaa",
   "metadata": {},
   "outputs": [],
   "source": [
    "cols_to_pseudonymize = [\"Repository Name\", \"Repository Link\"]"
   ]
  },
  {
   "cell_type": "code",
   "execution_count": null,
   "id": "3827822c",
   "metadata": {},
   "outputs": [],
   "source": [
    "for col in cols_to_pseudonymize:\n",
    "    if col in df.columns:\n",
    "        df[col] = df[col].apply(lambda x: pseudonymize_value(x))\n",
    "    else:\n",
    "        print(f\"Column '{col}' not found in dataset.\")"
   ]
  },
  {
   "cell_type": "code",
   "execution_count": null,
   "id": "4795d0ca",
   "metadata": {},
   "outputs": [],
   "source": [
    "output_csv = \"dataset_pseudonymized.csv\"\n",
    "df.to_csv(output_csv, index=False)"
   ]
  },
  {
   "cell_type": "code",
   "execution_count": null,
   "id": "f097c91b",
   "metadata": {},
   "outputs": [],
   "source": [
    "print(\"Pseudonymization complete. Output saved to:\", output_csv)"
   ]
  }
 ],
 "metadata": {
  "jupytext": {
   "cell_metadata_filter": "-all",
   "main_language": "python",
   "notebook_metadata_filter": "-all"
  },
  "language_info": {
   "name": "python"
  }
 },
 "nbformat": 4,
 "nbformat_minor": 5
}
